{
  "nbformat": 4,
  "nbformat_minor": 0,
  "metadata": {
    "colab": {
      "name": "words_chinese.ipynb",
      "version": "0.3.2",
      "provenance": [],
      "collapsed_sections": [],
      "include_colab_link": true
    },
    "kernelspec": {
      "name": "python3",
      "display_name": "Python 3"
    }
  },
  "cells": [
    {
      "cell_type": "markdown",
      "metadata": {
        "id": "view-in-github",
        "colab_type": "text"
      },
      "source": [
        "<a href=\"https://colab.research.google.com/github/bogdansalyp/chinese_words/blob/master/words_chinese.ipynb\" target=\"_parent\"><img src=\"https://colab.research.google.com/assets/colab-badge.svg\" alt=\"Open In Colab\"/></a>"
      ]
    },
    {
      "cell_type": "code",
      "metadata": {
        "id": "pmPMxkhzK7zp",
        "colab_type": "code",
        "colab": {}
      },
      "source": [
        "import numpy as np\n",
        "from IPython.core.display import display, HTML"
      ],
      "execution_count": 0,
      "outputs": []
    },
    {
      "cell_type": "code",
      "metadata": {
        "id": "q7HxvJP5_XiK",
        "colab_type": "code",
        "colab": {}
      },
      "source": [
        "words = {\n",
        "    \"1\": {\n",
        "        \"吗\": \"ma\",\n",
        "        \"我\": \"wǒ\",\n",
        "        \"很\": \"hěn\",\n",
        "        \"呢\": \"ne\",\n",
        "        \"也\": \"yě\"\n",
        "    },\n",
        "    \"2\": {\n",
        "        \"忙\": \"máng\",\n",
        "        \"爸爸\": \"bàba\",\n",
        "        \"妈妈\": \"māma\",\n",
        "        \"他们\": \"tāmen\",\n",
        "        \"都\": \"dōu\",\n",
        "        \"不\": \"bù\",\n",
        "        \"男\": \"nán\",\n",
        "        \"朋友\": \"péngyou\",\n",
        "        \"哥哥\": \"gēge\",\n",
        "        \"要\": \"yào\",\n",
        "        \"咖啡\": \"kāfēi\",\n",
        "        \"弟弟\": \"dìdi\",\n",
        "        \"我们\": \"wǒmen\",\n",
        "        \"喝\": \"hē\"\n",
        "    },\n",
        "    \"3\": {\n",
        "        \"她\": \"tā\",\n",
        "        \"是\": \"shì\",\n",
        "        \"\": \"nǎ\",\n",
        "        \"国\": \"guó\",\n",
        "        \"人\": \"rén\",\n",
        "        \"那\": \"nà\",\n",
        "        \"谁\": \"shéi\",\n",
        "        \"老师\": \"lǎoshī\",\n",
        "        \"中国\": \"Zhōngguó\",\n",
        "        \"您\": \"nín\",\n",
        "        \"这\": \"zhè\",\n",
        "        \"外语\": \"wàiyǔ\",\n",
        "        \"医生\": \"yīshēng\",\n",
        "        \"奶奶\": \"nǎinai\",\n",
        "        \"外婆\": \"wàipó\"\n",
        "    },\n",
        "    \"4\": {\n",
        "        \"认识\": \"rènshi\",\n",
        "        \"高兴\": \"gāoxìng\",\n",
        "        \"可以\": \"kěyǐ\",\n",
        "        \"进来\": \"jìnlai\",\n",
        "        \"请\": \"qǐng\",\n",
        "        \"记者\": \"jìzhě\",\n",
        "        \"请问\": \"qǐngwèn\",\n",
        "        \"贵姓\": \"guìxìng\",\n",
        "        \"叫\": \"jiào\",\n",
        "        \"先生\": \"xiānsheng\",\n",
        "        \"语言\": \"yǔyán\",\n",
        "        \"学院\": \"xuéyuàn\",\n",
        "        \"的\": \"de\",\n",
        "        \"学生\": \"xuésheng\",\n",
        "        \"什么\": \"shénme\",\n",
        "        \"学习\": \"xuéxí\",\n",
        "        \"汉语\": \"Hànyǔ\",\n",
        "        \"英国\": \"Yīngguó\",\n",
        "        \"加拿大\": \"Jiānádà\",\n",
        "        \"美国\": \"Měiguó\"\n",
        "    },\n",
        "    \"5\": {\n",
        "        \"餐厅\": \"cāntīng\",\n",
        "        \"在\": \"zài\",\n",
        "        \"那人\": \"nǎr\",\n",
        "        \"宿舍\": \"sùshè\",\n",
        "        \"女\": \"nü\",\n",
        "        \"坐\": \"zuò\",\n",
        "        \"谢谢\": \"xièxiè\",\n",
        "        \"对不起\": \"duìbuqǐ\",\n",
        "        \"知道\": \"zhīdào\",\n",
        "        \"没关系\": \"méi guānxi\",\n",
        "        \"再见\": \"zàijiàn\",\n",
        "        \"小姐\": \"xiǎojiě\",\n",
        "        \"二\": \"èr\",\n",
        "        \"层\": \"céng\",\n",
        "        \"零\": \"líng\",\n",
        "        \"四\": \"sì\",\n",
        "        \"号\": \"hào\",\n",
        "        \"不用\": \"búyòng\",\n",
        "        \"这人\": \"zhèr\",\n",
        "        \"晚\": \"wǎn\",\n",
        "        \"了\": \"le\"\n",
        "    },\n",
        "    \"6\": {\n",
        "        \"去\": \"qù\",\n",
        "        \"游泳\": \"yóuyǒng\",\n",
        "        \"昨天\": \"zuótiān\",\n",
        "        \"京剧\": \"jīngjù\",\n",
        "        \"怎么样\": \"zěnmeyàng\",\n",
        "        \"有意思\": \"yǒu yìsi\",\n",
        "        \"今天\": \"jīntiān\",\n",
        "        \"天气\": \"tiānqì\",\n",
        "        \"太\": \"tài\",\n",
        "        \"时候\": \"shíhou\",\n",
        "        \"现在\": \"xiànzài\",\n",
        "        \"明天\": \"míngtiān\",\n",
        "        \"有\": \"yǒu\",\n",
        "        \"时间\": \"shíjiān\",\n",
        "        \"说\": \"shuō\",\n",
        "        \"遍\": \"biàn\",\n",
        "        \"打球\": \"dǎ qiú\",\n",
        "        \"抱歉\": \"bàoqiàn\",\n",
        "        \"恐怕\": \"kǒngpà\",\n",
        "        \"行\": \"xíng\",\n",
        "        \"你们\": \"nǐmen\"\n",
        "    },\n",
        "    \"7\": {\n",
        "        \"开学\": \"kāixué\",\n",
        "        \"开\": \"kāi\",\n",
        "        \"高\": \"gāo\",\n",
        "        \"看\": \"kàn\",\n",
        "        \"问\": \"wèn\",\n",
        "        \"一下\": \"yíxià\",\n",
        "        \"名片\": \"míngpiàn\",\n",
        "        \"教授\": \"jiàoshòu\",\n",
        "        \"教\": \"jiāo\",\n",
        "        \"介绍\": \"jièshào\",\n",
        "        \"名字\": \"míngzi\",\n",
        "        \"中文\": \"Zhōngwén\",\n",
        "        \"学\": \"xué\",\n",
        "        \"专业\": \"zhuānyè\",\n",
        "        \"美术\": \"měishù\",\n",
        "        \"美\": \"měi\",\n",
        "        \"文学\": \"wénxué\",\n",
        "        \"系\": \"xì\"\n",
        "    },\n",
        "    \"pronouns\": {\n",
        "        \"我\": \"wǒ\",\n",
        "        \"你\": \"nǐ\",\n",
        "        \"他\": \"tā\",\n",
        "        \"她\": \"tā\",\n",
        "        \"它\": \"tā\",\n",
        "        \"我们\": \"wǒmen\",\n",
        "        \"咱们\": \"zánmen\",\n",
        "        \"你们\": \"nǐmen\",\n",
        "        \"他们\": \"tāmen\",\n",
        "        \"她们\": \"tāmen\",\n",
        "        \"它们\": \"tāmen\"\n",
        "    },\n",
        "    \"numbers\": {\n",
        "        \"零\": \"líng\",\n",
        "        \"一\": \"yī\",\n",
        "        \"二\": \"èr\",\n",
        "        \"三\": \"sān\",\n",
        "        \"四\": \"sì\",\n",
        "        \"五\": \"wǔ\",\n",
        "        \"六\": \"liù\",\n",
        "        \"七\": \"qī\",\n",
        "        \"八\": \"bā\",\n",
        "        \"九\": \"jiǔ\",\n",
        "        \"十\": \"shí\",\n",
        "        \"百\": \"yībǎi\",\n",
        "        \"两\": \"liǎng\",\n",
        "        \"千\": \"qiān\",\n",
        "        \"万\": \"wàn\",\n",
        "        \"亿\": \"yì\"\n",
        "    }\n",
        "}"
      ],
      "execution_count": 0,
      "outputs": []
    },
    {
      "cell_type": "code",
      "metadata": {
        "id": "7PO3jU7fIp5-",
        "colab_type": "code",
        "colab": {}
      },
      "source": [
        "# lesson repeat"
      ],
      "execution_count": 0,
      "outputs": []
    },
    {
      "cell_type": "code",
      "metadata": {
        "id": "gUzd7ogFOo8g",
        "colab_type": "code",
        "colab": {}
      },
      "source": [
        "style_string = '''\n",
        "  <style>\n",
        "      .sign { font-weight: bold; display: inline-block; font-size: 20px; }\n",
        "      .spoiler { color: black; background-color:black; display: inline-block; font-size: 20px; }\n",
        "      .spoiler:hover{ background-color: white; }\n",
        "  </style>\n",
        "'''"
      ],
      "execution_count": 0,
      "outputs": []
    },
    {
      "cell_type": "code",
      "metadata": {
        "id": "NZMVop_dIuk7",
        "colab_type": "code",
        "outputId": "983e52f7-ddee-4be0-eb9c-76b0e79af6fd",
        "colab": {
          "base_uri": "https://localhost:8080/",
          "height": 226
        }
      },
      "source": [
        "# theme repeat\n",
        "theme = \"numbers\"\n",
        "amount = 5\n",
        "\n",
        "signs = list(words[theme].keys())\n",
        "if amount > len(signs):\n",
        "  amount = len(signs)\n",
        "  \n",
        "# print(np.random.choice(signs, size=amount, replace=False))\n",
        "for key in np.random.choice(signs, size=amount, replace=False):\n",
        "  display(HTML('''\n",
        "    {}\n",
        "    <div class=\"sign\">{}</div> &nbsp;&nbsp;&nbsp;&nbsp;&nbsp; <div class=\"spoiler\">{}</div><br><br>\n",
        "  '''.format(style_string, key, words[theme][key])))"
      ],
      "execution_count": 0,
      "outputs": [
        {
          "output_type": "display_data",
          "data": {
            "text/html": [
              "\n",
              "    \n",
              "  <style>\n",
              "      .sign { font-weight: bold; display: inline-block; font-size: 20px; }\n",
              "      .spoiler { color: black; background-color:black; display: inline-block; font-size: 20px; }\n",
              "      .spoiler:hover{ background-color: white; }\n",
              "  </style>\n",
              "\n",
              "    <div class=\"sign\">九</div> &nbsp;&nbsp;&nbsp;&nbsp;&nbsp; <div class=\"spoiler\">jiǔ</div><br><br>\n",
              "  "
            ],
            "text/plain": [
              "<IPython.core.display.HTML object>"
            ]
          },
          "metadata": {
            "tags": []
          }
        },
        {
          "output_type": "display_data",
          "data": {
            "text/html": [
              "\n",
              "    \n",
              "  <style>\n",
              "      .sign { font-weight: bold; display: inline-block; font-size: 20px; }\n",
              "      .spoiler { color: black; background-color:black; display: inline-block; font-size: 20px; }\n",
              "      .spoiler:hover{ background-color: white; }\n",
              "  </style>\n",
              "\n",
              "    <div class=\"sign\">两</div> &nbsp;&nbsp;&nbsp;&nbsp;&nbsp; <div class=\"spoiler\">liǎng</div><br><br>\n",
              "  "
            ],
            "text/plain": [
              "<IPython.core.display.HTML object>"
            ]
          },
          "metadata": {
            "tags": []
          }
        },
        {
          "output_type": "display_data",
          "data": {
            "text/html": [
              "\n",
              "    \n",
              "  <style>\n",
              "      .sign { font-weight: bold; display: inline-block; font-size: 20px; }\n",
              "      .spoiler { color: black; background-color:black; display: inline-block; font-size: 20px; }\n",
              "      .spoiler:hover{ background-color: white; }\n",
              "  </style>\n",
              "\n",
              "    <div class=\"sign\">二</div> &nbsp;&nbsp;&nbsp;&nbsp;&nbsp; <div class=\"spoiler\">èr</div><br><br>\n",
              "  "
            ],
            "text/plain": [
              "<IPython.core.display.HTML object>"
            ]
          },
          "metadata": {
            "tags": []
          }
        },
        {
          "output_type": "display_data",
          "data": {
            "text/html": [
              "\n",
              "    \n",
              "  <style>\n",
              "      .sign { font-weight: bold; display: inline-block; font-size: 20px; }\n",
              "      .spoiler { color: black; background-color:black; display: inline-block; font-size: 20px; }\n",
              "      .spoiler:hover{ background-color: white; }\n",
              "  </style>\n",
              "\n",
              "    <div class=\"sign\">一</div> &nbsp;&nbsp;&nbsp;&nbsp;&nbsp; <div class=\"spoiler\">yī</div><br><br>\n",
              "  "
            ],
            "text/plain": [
              "<IPython.core.display.HTML object>"
            ]
          },
          "metadata": {
            "tags": []
          }
        },
        {
          "output_type": "display_data",
          "data": {
            "text/html": [
              "\n",
              "    \n",
              "  <style>\n",
              "      .sign { font-weight: bold; display: inline-block; font-size: 20px; }\n",
              "      .spoiler { color: black; background-color:black; display: inline-block; font-size: 20px; }\n",
              "      .spoiler:hover{ background-color: white; }\n",
              "  </style>\n",
              "\n",
              "    <div class=\"sign\">四</div> &nbsp;&nbsp;&nbsp;&nbsp;&nbsp; <div class=\"spoiler\">sì</div><br><br>\n",
              "  "
            ],
            "text/plain": [
              "<IPython.core.display.HTML object>"
            ]
          },
          "metadata": {
            "tags": []
          }
        }
      ]
    },
    {
      "cell_type": "code",
      "metadata": {
        "id": "rpGyp9XeMHZy",
        "colab_type": "code",
        "colab": {}
      },
      "source": [
        ""
      ],
      "execution_count": 0,
      "outputs": []
    }
  ]
}